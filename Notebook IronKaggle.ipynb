{
 "cells": [
  {
   "cell_type": "markdown",
   "id": "613fc39b",
   "metadata": {},
   "source": [
    "# IronKaggle"
   ]
  },
  {
   "cell_type": "markdown",
   "id": "2ac733d8",
   "metadata": {},
   "source": [
    "Team: John, Lovely, Alex"
   ]
  },
  {
   "cell_type": "markdown",
   "id": "efa49fa6",
   "metadata": {},
   "source": [
    "## Schedule:\n",
    "- 9am: Introduction, Group organization, framing the problem\n",
    "- 9.30am: Development time\n",
    "- 1pm: Lunch break\n",
    "- 2pm: Back from break\n",
    "- 3:30pm: You will receive the “real-life” data\n",
    "- 5pm: Delivery of the dataset with predictions + r2 score + Finish your presentation\n",
    "- 5:30pm: presentations + winner announcement\n",
    "\n"
   ]
  },
  {
   "cell_type": "markdown",
   "id": "6c5fbd23",
   "metadata": {},
   "source": [
    "## Expected Deliverable\n",
    "- “Real-life data set” with an extra column called “sales”, with your predictions (in .csv)\n",
    "- An expected value of R2 of performance of your model\n",
    "- A 5’ presentation on the choices you did and the road you took"
   ]
  },
  {
   "cell_type": "markdown",
   "id": "dea3a1d9",
   "metadata": {},
   "source": [
    "## Deliverables\n",
    "- A .csv file called with your groupd name (e.g, ‘G1.csv’, ‘G2.csv’)\n",
    "- The value of R2 you are expecting to get\n",
    "- Send this in a .zip file containing two elements: the csv file, a txt file with the R2 score inside"
   ]
  },
  {
   "cell_type": "markdown",
   "id": "6a3cc040",
   "metadata": {},
   "source": [
    "## Decisions\n",
    "- It is supervised learning\n",
    "- It is a regression problem\n"
   ]
  },
  {
   "cell_type": "markdown",
   "id": "90da13a3",
   "metadata": {},
   "source": [
    "# Workflow"
   ]
  },
  {
   "cell_type": "markdown",
   "id": "787a9385",
   "metadata": {},
   "source": [
    "## 1. Get Data into Phyton"
   ]
  },
  {
   "cell_type": "code",
   "execution_count": null,
   "id": "cb264450",
   "metadata": {},
   "outputs": [],
   "source": [
    "from sklearn.model_selection import train_test_split\n",
    "from sklearn.metrics import r2_score, mean_squared_error\n",
    "import pandas as pd\n",
    "import os"
   ]
  },
  {
   "cell_type": "markdown",
   "id": "2c8ff3e4",
   "metadata": {},
   "source": [
    "## 2. Define X (feature) and y (target)"
   ]
  },
  {
   "cell_type": "code",
   "execution_count": null,
   "id": "a0fdf6fc",
   "metadata": {},
   "outputs": [],
   "source": []
  },
  {
   "cell_type": "markdown",
   "id": "f036fe6b",
   "metadata": {},
   "source": [
    "## 3. Split in Train and Test"
   ]
  },
  {
   "cell_type": "code",
   "execution_count": null,
   "id": "b8db2e03",
   "metadata": {},
   "outputs": [],
   "source": [
    "def evaluate_model(model, X_scaled, y, output_path='output/predictions.csv'):\n",
    "X_train, X_test, y_train, y_test = train_test_split(X_scaled, y, test_size=0.2, random_state=42)\n",
    "y_pred = model.predict(X_test)"
   ]
  },
  {
   "cell_type": "markdown",
   "id": "fe722cb9",
   "metadata": {},
   "source": [
    "## 4. Select Feetures"
   ]
  },
  {
   "cell_type": "code",
   "execution_count": null,
   "id": "9d713090",
   "metadata": {},
   "outputs": [],
   "source": []
  },
  {
   "cell_type": "markdown",
   "id": "8d750ff3",
   "metadata": {},
   "source": [
    "## 5. Standartisation of Data"
   ]
  },
  {
   "cell_type": "code",
   "execution_count": null,
   "id": "5b2eb95f",
   "metadata": {},
   "outputs": [],
   "source": []
  },
  {
   "cell_type": "markdown",
   "id": "f1153497",
   "metadata": {},
   "source": [
    "## 6. Crossvalidation"
   ]
  },
  {
   "cell_type": "code",
   "execution_count": null,
   "id": "072143d7",
   "metadata": {},
   "outputs": [],
   "source": []
  },
  {
   "cell_type": "markdown",
   "id": "5a79fe99",
   "metadata": {},
   "source": [
    "## 7. Fit / Train"
   ]
  },
  {
   "cell_type": "code",
   "execution_count": null,
   "id": "4f411ab6",
   "metadata": {},
   "outputs": [],
   "source": [
    "mse = mean_squared_error(y_test, y_pred)\n",
    "r2 = r2_score(y_test, y_pred)\n",
    "\n",
    "print(f\"R2 Score: {r2:.4f}\")\n",
    "print(f\"MSE: {mse:.2f}\")"
   ]
  },
  {
   "cell_type": "markdown",
   "id": "f6aa6526",
   "metadata": {},
   "source": [
    "## 8. Predictions"
   ]
  },
  {
   "cell_type": "code",
   "execution_count": null,
   "id": "1ad8b6a1",
   "metadata": {},
   "outputs": [],
   "source": []
  },
  {
   "cell_type": "markdown",
   "id": "c85b6d6b",
   "metadata": {},
   "source": [
    "## 9. Evaluation"
   ]
  },
  {
   "cell_type": "code",
   "execution_count": null,
   "id": "48bcb885",
   "metadata": {},
   "outputs": [],
   "source": [
    "\n",
    "\n",
    "\n",
    "\n",
    "os.makedirs('output', exist_ok=True)\n",
    "pd.DataFrame({\n",
    "\"actual\": y_test.reset_index(drop=True),\n",
    "\"predicted\": y_pred\n",
    "}).to_csv(output_path, index=False)\n",
    "\n",
    "return r2, mse\n",
    "📌 main.py\n",
    "python\n",
    "Copy\n",
    "Edit\n",
    "from src.preprocess import preprocess_data\n",
    "from src.train_model import train_model\n",
    "from src.evaluate import evaluate_model\n",
    "\n",
    "def main():\n",
    "X, y = preprocess_data(\"data/Sales.csv\")\n",
    "model, scaler, X_scaled = train_model(X, y)\n",
    "r2, mse = evaluate_model(model, X_scaled, y)\n",
    "print(f\"✔️ Done! R2 = {r2:.4f}, MSE = {mse:.2f}\")\n",
    "\n",
    "if name == \"__main__\":\n",
    "main()"
   ]
  },
  {
   "cell_type": "markdown",
   "id": "671f9ac1",
   "metadata": {},
   "source": [
    "Dont forget to save"
   ]
  },
  {
   "cell_type": "markdown",
   "id": "37e25efe",
   "metadata": {},
   "source": []
  }
 ],
 "metadata": {
  "kernelspec": {
   "display_name": "base",
   "language": "python",
   "name": "python3"
  },
  "language_info": {
   "codemirror_mode": {
    "name": "ipython",
    "version": 3
   },
   "file_extension": ".py",
   "mimetype": "text/x-python",
   "name": "python",
   "nbconvert_exporter": "python",
   "pygments_lexer": "ipython3",
   "version": "3.13.5"
  }
 },
 "nbformat": 4,
 "nbformat_minor": 5
}
